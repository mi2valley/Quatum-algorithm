{
 "cells": [
  {
   "cell_type": "code",
   "execution_count": 1,
   "metadata": {},
   "outputs": [
    {
     "name": "stdout",
     "output_type": "stream",
     "text": [
      "Collecting amazon-braket-sdk\n",
      "  Downloading amazon_braket_sdk-1.1.1.post2-py3-none-any.whl (75 kB)\n",
      "\u001b[K     |████████████████████████████████| 75 kB 2.1 MB/s eta 0:00:01\n",
      "\u001b[?25hRequirement already satisfied: numpy in /Users/yusuke/opt/anaconda3/lib/python3.7/site-packages (from amazon-braket-sdk) (1.18.1)\n",
      "Requirement already satisfied: networkx in /Users/yusuke/opt/anaconda3/lib/python3.7/site-packages (from amazon-braket-sdk) (2.4)\n",
      "Collecting backoff\n",
      "  Downloading backoff-1.10.0-py2.py3-none-any.whl (31 kB)\n",
      "Collecting boto3\n",
      "  Downloading boto3-1.15.8-py2.py3-none-any.whl (129 kB)\n",
      "\u001b[K     |████████████████████████████████| 129 kB 3.0 MB/s eta 0:00:01\n",
      "\u001b[?25hCollecting amazon-braket-default-simulator\n",
      "  Downloading amazon_braket_default_simulator-1.0.0.post2-py3-none-any.whl (31 kB)\n",
      "Requirement already satisfied: nest-asyncio in /Users/yusuke/opt/anaconda3/lib/python3.7/site-packages (from amazon-braket-sdk) (1.3.0)\n",
      "Collecting boltons\n",
      "  Downloading boltons-20.2.1-py2.py3-none-any.whl (170 kB)\n",
      "\u001b[K     |████████████████████████████████| 170 kB 4.1 MB/s eta 0:00:01\n",
      "\u001b[?25hRequirement already satisfied: decorator>=4.3.0 in /Users/yusuke/opt/anaconda3/lib/python3.7/site-packages (from networkx->amazon-braket-sdk) (4.4.1)\n",
      "Collecting jmespath<1.0.0,>=0.7.1\n",
      "  Downloading jmespath-0.10.0-py2.py3-none-any.whl (24 kB)\n",
      "Collecting botocore<1.19.0,>=1.18.8\n",
      "  Downloading botocore-1.18.8-py2.py3-none-any.whl (6.6 MB)\n",
      "\u001b[K     |████████████████████████████████| 6.6 MB 2.5 MB/s eta 0:00:01\n",
      "\u001b[?25hCollecting s3transfer<0.4.0,>=0.3.0\n",
      "  Downloading s3transfer-0.3.3-py2.py3-none-any.whl (69 kB)\n",
      "\u001b[K     |████████████████████████████████| 69 kB 3.5 MB/s eta 0:00:01\n",
      "\u001b[?25hCollecting amazon-braket-schemas\n",
      "  Downloading amazon_braket_schemas-1.0.2.post1-py3-none-any.whl (59 kB)\n",
      "\u001b[K     |████████████████████████████████| 59 kB 5.1 MB/s eta 0:00:011\n",
      "\u001b[?25hCollecting opt-einsum\n",
      "  Downloading opt_einsum-3.3.0-py3-none-any.whl (65 kB)\n",
      "\u001b[K     |████████████████████████████████| 65 kB 4.4 MB/s eta 0:00:01\n",
      "\u001b[?25hRequirement already satisfied: urllib3<1.26,>=1.20; python_version != \"3.4\" in /Users/yusuke/opt/anaconda3/lib/python3.7/site-packages (from botocore<1.19.0,>=1.18.8->boto3->amazon-braket-sdk) (1.25.8)\n",
      "Requirement already satisfied: python-dateutil<3.0.0,>=2.1 in /Users/yusuke/opt/anaconda3/lib/python3.7/site-packages (from botocore<1.19.0,>=1.18.8->boto3->amazon-braket-sdk) (2.8.1)\n",
      "Collecting pydantic\n",
      "  Downloading pydantic-1.6.1-cp37-cp37m-macosx_10_9_x86_64.whl (2.3 MB)\n",
      "\u001b[K     |████████████████████████████████| 2.3 MB 4.5 MB/s eta 0:00:01\n",
      "\u001b[?25hRequirement already satisfied: six>=1.5 in /Users/yusuke/opt/anaconda3/lib/python3.7/site-packages (from python-dateutil<3.0.0,>=2.1->botocore<1.19.0,>=1.18.8->boto3->amazon-braket-sdk) (1.14.0)\n",
      "Installing collected packages: backoff, jmespath, botocore, s3transfer, boto3, pydantic, amazon-braket-schemas, opt-einsum, amazon-braket-default-simulator, boltons, amazon-braket-sdk\n",
      "Successfully installed amazon-braket-default-simulator-1.0.0.post2 amazon-braket-schemas-1.0.2.post1 amazon-braket-sdk-1.1.1.post2 backoff-1.10.0 boltons-20.2.1 boto3-1.15.8 botocore-1.18.8 jmespath-0.10.0 opt-einsum-3.3.0 pydantic-1.6.1 s3transfer-0.3.3\n",
      "Note: you may need to restart the kernel to use updated packages.\n"
     ]
    }
   ],
   "source": [
    "pip install amazon-braket-sdk\n"
   ]
  },
  {
   "cell_type": "code",
   "execution_count": 1,
   "metadata": {},
   "outputs": [],
   "source": [
    "from braket.circuits import Circuit\n",
    "from braket.devices import LocalSimulator"
   ]
  },
  {
   "cell_type": "code",
   "execution_count": 2,
   "metadata": {},
   "outputs": [],
   "source": [
    "# LocalSimulatorをインスタンス化\n",
    "device = LocalSimulator()"
   ]
  },
  {
   "cell_type": "code",
   "execution_count": 3,
   "metadata": {},
   "outputs": [
    {
     "name": "stdout",
     "output_type": "stream",
     "text": [
      "Counter({'10': 27, '11': 25, '01': 24, '00': 24})\n"
     ]
    }
   ],
   "source": [
    "# 量子回路を作成\n",
    "circuit = Circuit().h(0).h(1).cnot(0, 1)\n",
    "# 量子回路を実行(100回実行する)\n",
    "result = device.run(circuit, shots=100).result()\n",
    "counts = result.measurement_counts\n",
    "# 量子回路の実行結果を表示\n",
    "print(counts)"
   ]
  },
  {
   "cell_type": "code",
   "execution_count": 4,
   "metadata": {},
   "outputs": [
    {
     "data": {
      "image/png": "[encoded data removed]",
      "text/plain": [
       "<Figure size 432x288 with 1 Axes>"
      ]
     },
     "metadata": {
      "needs_background": "light"
     },
     "output_type": "display_data"
    }
   ],
   "source": [
    "import matplotlib.pyplot as plt\n",
    "plt.bar(counts.keys(), counts.values());\n",
    "plt.xlabel('bitstrings');\n",
    "plt.ylabel('counts');"
   ]
  },
  {
   "cell_type": "code",
   "execution_count": 7,
   "metadata": {},
   "outputs": [],
   "source": [
    "Glover3 = Circuit().h(0).h(1).h(2).h(2).ccnot(0,1,2).h(2).h(0).h(1).h(2).x(0).x(1).x(2).h(2).ccnot(0,1,2).h(2).x(0).x(1).x(2).h(0).h(1).h(2)"
   ]
  },
  {
   "cell_type": "code",
   "execution_count": 8,
   "metadata": {},
   "outputs": [
    {
     "name": "stdout",
     "output_type": "stream",
     "text": [
      "Counter({'111': 80, '101': 4, '001': 4, '011': 3, '100': 3, '110': 3, '010': 3})\n"
     ]
    }
   ],
   "source": [
    "result1 = device.run(Glover3, shots=100).result()\n",
    "counts = result1.measurement_counts\n",
    "print(counts)"
   ]
  },
  {
   "cell_type": "code",
   "execution_count": 10,
   "metadata": {},
   "outputs": [
    {
     "data": {
      "image/png": "[encoded data removed]",
      "text/plain": [
       "<Figure size 432x288 with 1 Axes>"
      ]
     },
     "metadata": {
      "needs_background": "light"
     },
     "output_type": "display_data"
    }
   ],
   "source": [
    "plt.bar(counts.keys(), counts.values());\n",
    "plt.xlabel('bitstrings');\n",
    "plt.ylabel('counts');"
   ]
  },
  {
   "cell_type": "code",
   "execution_count": null,
   "metadata": {},
   "outputs": [],
   "source": []
  }
 ],
 "metadata": {
  "kernelspec": {
   "display_name": "Python 3",
   "language": "python",
   "name": "python3"
  },
  "language_info": {
   "codemirror_mode": {
    "name": "ipython",
    "version": 3
   },
   "file_extension": ".py",
   "mimetype": "text/x-python",
   "name": "python",
   "nbconvert_exporter": "python",
   "pygments_lexer": "ipython3",
   "version": "3.7.6"
  }
 },
 "nbformat": 4,
 "nbformat_minor": 4
}
